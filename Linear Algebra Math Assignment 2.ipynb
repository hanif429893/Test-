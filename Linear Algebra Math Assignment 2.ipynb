{
 "cells": [
  {
   "cell_type": "code",
   "execution_count": 1,
   "id": "3c7266d2",
   "metadata": {},
   "outputs": [],
   "source": [
    "import numpy as np\n",
    "from scipy import optimize\n",
    "import matplotlib.pyplot as plt\n",
    "import csv\n",
    "import math\n",
    "from sklearn.metrics import mean_squared_error"
   ]
  },
  {
   "cell_type": "code",
   "execution_count": 2,
   "id": "7b582157",
   "metadata": {},
   "outputs": [],
   "source": [
    "with open('Data.csv')as csvfile:\n",
    "    temperature_data =list(csv.reader(csvfile))"
   ]
  },
  {
   "cell_type": "code",
   "execution_count": 3,
   "id": "3ef663be",
   "metadata": {},
   "outputs": [],
   "source": [
    "x_list=[]\n",
    "y_list=[]"
   ]
  },
  {
   "cell_type": "code",
   "execution_count": 4,
   "id": "4c49975c",
   "metadata": {},
   "outputs": [],
   "source": [
    "for temperature in temperature_data:\n",
    "    x_list.append(int(temperature[0]))\n",
    "    y_list.append(int(temperature[1]))"
   ]
  },
  {
   "cell_type": "code",
   "execution_count": 5,
   "id": "d8d22377",
   "metadata": {},
   "outputs": [
    {
     "data": {
      "text/plain": [
       "[1,\n",
       " 2,\n",
       " 3,\n",
       " 4,\n",
       " 5,\n",
       " 6,\n",
       " 7,\n",
       " 8,\n",
       " 9,\n",
       " 10,\n",
       " 11,\n",
       " 12,\n",
       " 13,\n",
       " 14,\n",
       " 15,\n",
       " 16,\n",
       " 17,\n",
       " 18,\n",
       " 19,\n",
       " 20,\n",
       " 21,\n",
       " 22,\n",
       " 23,\n",
       " 24,\n",
       " 25,\n",
       " 26,\n",
       " 27,\n",
       " 28,\n",
       " 29,\n",
       " 30,\n",
       " 31,\n",
       " 32,\n",
       " 33,\n",
       " 34,\n",
       " 35,\n",
       " 36,\n",
       " 37,\n",
       " 38,\n",
       " 39,\n",
       " 40,\n",
       " 41,\n",
       " 42,\n",
       " 43]"
      ]
     },
     "execution_count": 5,
     "metadata": {},
     "output_type": "execute_result"
    }
   ],
   "source": [
    "x_list"
   ]
  },
  {
   "cell_type": "code",
   "execution_count": 6,
   "id": "9a5acec3",
   "metadata": {},
   "outputs": [
    {
     "data": {
      "text/plain": [
       "array([  3,   7,   8,  12,  19,  22,  31,  37,  47,  54,  64,  72,  83,\n",
       "        95, 105, 112, 122, 135, 145, 160, 169, 183, 196, 203, 217, 225,\n",
       "       233, 245, 256, 267, 275, 282, 290, 301, 307, 313, 319, 323, 326,\n",
       "       331, 332, 330, 337])"
      ]
     },
     "execution_count": 6,
     "metadata": {},
     "output_type": "execute_result"
    }
   ],
   "source": [
    "x=np.array(x_list)\n",
    "y=np.array(y_list)\n",
    "y"
   ]
  },
  {
   "cell_type": "code",
   "execution_count": 7,
   "id": "4adf755f",
   "metadata": {},
   "outputs": [
    {
     "data": {
      "text/plain": [
       "array([ 1,  2,  3,  4,  5,  6,  7,  8,  9, 10, 11, 12, 13, 14, 15, 16, 17,\n",
       "       18, 19, 20, 21, 22, 23, 24, 25, 26, 27, 28, 29, 30, 31, 32, 33, 34,\n",
       "       35, 36, 37, 38, 39, 40, 41, 42, 43])"
      ]
     },
     "execution_count": 7,
     "metadata": {},
     "output_type": "execute_result"
    }
   ],
   "source": [
    "x"
   ]
  },
  {
   "cell_type": "code",
   "execution_count": 8,
   "id": "8688fe49",
   "metadata": {},
   "outputs": [],
   "source": [
    "def linear_equ(x,a,b):\n",
    "    return a*x+b"
   ]
  },
  {
   "cell_type": "code",
   "execution_count": 18,
   "id": "2f7cb3ce",
   "metadata": {},
   "outputs": [],
   "source": [
    "def linear_equ_plot():\n",
    "    popt,pcov=optimize.curve_fit(linear_equ, x,y)\n",
    "    a,b=popt\n",
    "    plt.scatter(x,y)\n",
    "    x_line= np.arange(min(x),max(x)+1)\n",
    "    y_line=linear_equ(x_line,a,b)\n",
    "    plt.plot(x_line,y_line,'--',color='red')\n",
    "    plt.show()\n",
    "    print(\"Error Value:\" + str(mean_squared_error(y, y_line)))"
   ]
  },
  {
   "cell_type": "code",
   "execution_count": 19,
   "id": "9f444662",
   "metadata": {},
   "outputs": [
    {
     "data": {
      "image/png": "[encoded data removed]",
      "text/plain": [
       "<Figure size 432x288 with 1 Axes>"
      ]
     },
     "metadata": {
      "needs_background": "light"
     },
     "output_type": "display_data"
    },
    {
     "name": "stdout",
     "output_type": "stream",
     "text": [
      "Error Value:154.76746293187622\n"
     ]
    }
   ],
   "source": [
    "linear_equ_plot()"
   ]
  },
  {
   "cell_type": "code",
   "execution_count": 20,
   "id": "4d71d930",
   "metadata": {},
   "outputs": [],
   "source": [
    "def polynomial_equ_2(x,a,b,c):\n",
    "    return a*x**2+b*x+c\n",
    "def poly_equ_plot1():\n",
    "    popt,pcov=optimize.curve_fit(polynomial_equ_2, x,y)\n",
    "    a,b,c=popt\n",
    "    plt.scatter(x,y)\n",
    "    x_line= np.arange(min(x),max(x)+1)\n",
    "    y_line=polynomial_equ_2(x_line,a,b,c)\n",
    "    plt.plot(x_line,y_line,'--',color='red')\n",
    "    plt.show()\n",
    "    print(\"Error Value:\" + str(mean_squared_error(y, y_line)))"
   ]
  },
  {
   "cell_type": "code",
   "execution_count": 21,
   "id": "17687a85",
   "metadata": {},
   "outputs": [
    {
     "data": {
      "image/png": "[encoded data removed]",
      "text/plain": [
       "<Figure size 432x288 with 1 Axes>"
      ]
     },
     "metadata": {
      "needs_background": "light"
     },
     "output_type": "display_data"
    },
    {
     "name": "stdout",
     "output_type": "stream",
     "text": [
      "Error Value:138.6785942273813\n"
     ]
    }
   ],
   "source": [
    "poly_equ_plot1()"
   ]
  },
  {
   "cell_type": "code",
   "execution_count": 22,
   "id": "a7e1c4e9",
   "metadata": {},
   "outputs": [],
   "source": [
    "def polynomial_equ_3(x,a,b,c,d):\n",
    "    return a*x*3+b*x*2+c*x+d"
   ]
  },
  {
   "cell_type": "code",
   "execution_count": 23,
   "id": "dfcb52e2",
   "metadata": {},
   "outputs": [],
   "source": [
    "def poly_equ_plot():\n",
    "    popt,pcov=optimize.curve_fit(polynomial_equ_3, x,y)\n",
    "    a,b,c,d=popt\n",
    "    plt.scatter(x,y)\n",
    "    x_line= np.arange(min(x),max(x)+1)\n",
    "    y_line=polynomial_equ_3(x_line,a,b,c,d)\n",
    "    plt.plot(x_line,y_line,'--',color='red')\n",
    "    plt.show()\n",
    "    print(\"Error Value:\" + str(mean_squared_error(y, y_line)))"
   ]
  },
  {
   "cell_type": "code",
   "execution_count": 24,
   "id": "838ef60a",
   "metadata": {},
   "outputs": [
    {
     "data": {
      "image/png": "[encoded data removed]",
      "text/plain": [
       "<Figure size 432x288 with 1 Axes>"
      ]
     },
     "metadata": {
      "needs_background": "light"
     },
     "output_type": "display_data"
    },
    {
     "name": "stdout",
     "output_type": "stream",
     "text": [
      "Error Value:154.76746293187875\n"
     ]
    }
   ],
   "source": [
    "poly_equ_plot()"
   ]
  },
  {
   "cell_type": "code",
   "execution_count": null,
   "id": "37aa85f2",
   "metadata": {},
   "outputs": [],
   "source": []
  }
 ],
 "metadata": {
  "kernelspec": {
   "display_name": "Python 3",
   "language": "python",
   "name": "python3"
  },
  "language_info": {
   "codemirror_mode": {
    "name": "ipython",
    "version": 3
   },
   "file_extension": ".py",
   "mimetype": "text/x-python",
   "name": "python",
   "nbconvert_exporter": "python",
   "pygments_lexer": "ipython3",
   "version": "3.8.8"
  }
 },
 "nbformat": 4,
 "nbformat_minor": 5
}
